{
 "cells": [
  {
   "cell_type": "markdown",
   "metadata": {},
   "source": [
    "# Creating_a_Natural_Language_to_SQL_System_using_Llama_Index"
   ]
  },
  {
   "cell_type": "markdown",
   "metadata": {},
   "source": [
    "[Creating_a_Natural_Language_to_SQL_System_using_Llama_Index](https://medium.aiplanet.com/creating-a-natural-language-to-sql-system-using-llama-index-10373e665bbb)"
   ]
  },
  {
   "cell_type": "markdown",
   "metadata": {},
   "source": [
    "## SETUP"
   ]
  },
  {
   "cell_type": "code",
   "execution_count": 12,
   "metadata": {},
   "outputs": [],
   "source": [
    "import openai\n",
    "import os\n",
    "from dotenv import load_dotenv, find_dotenv\n",
    "\n",
    "_ = load_dotenv(find_dotenv())\n",
    "os.environ[\"OPENAI_API_KEY\"] = os.getenv(\"OPENAI_API_KEY\")\n",
    "OPENAI_API_KEY = os.getenv(\"OPENAI_API_KEY\")"
   ]
  },
  {
   "cell_type": "code",
   "execution_count": null,
   "metadata": {},
   "outputs": [],
   "source": [
    "from sqlalchemy import create_engine\n",
    "from llama_index.core import SQLDatabase\n",
    "from llama_index.llms.openai import OpenAI\n",
    "from llama_index.embeddings.openai import OpenAIEmbedding\n",
    "from llama_index.core.indices.struct_store.sql_query import NLSQLTableQueryEngine\n",
    "from llama_index.core.tools.query_engine import QueryEngineTool\n",
    "from llama_index.agent.openai import OpenAIAgent\n",
    "import pandas as pd"
   ]
  },
  {
   "cell_type": "markdown",
   "metadata": {},
   "source": [
    "## Load the CSV file to pandas dataframe"
   ]
  },
  {
   "cell_type": "code",
   "execution_count": 29,
   "metadata": {},
   "outputs": [
    {
     "data": {
      "text/plain": [
       "(23171, 20)"
      ]
     },
     "execution_count": 29,
     "metadata": {},
     "output_type": "execute_result"
    }
   ],
   "source": [
    "# load airline reviews from github\n",
    "df = pd.read_csv(\n",
    "    \"https://raw.githubusercontent.com/Ibrahim-Maiga/Sentiment-Analysis-for-Airline-Reviews/refs/heads/main/Data/Airline_review.csv\"\n",
    ")\n",
    "df.shape"
   ]
  },
  {
   "cell_type": "code",
   "execution_count": 30,
   "metadata": {},
   "outputs": [
    {
     "data": {
      "text/html": [
       "<div>\n",
       "<style scoped>\n",
       "    .dataframe tbody tr th:only-of-type {\n",
       "        vertical-align: middle;\n",
       "    }\n",
       "\n",
       "    .dataframe tbody tr th {\n",
       "        vertical-align: top;\n",
       "    }\n",
       "\n",
       "    .dataframe thead th {\n",
       "        text-align: right;\n",
       "    }\n",
       "</style>\n",
       "<table border=\"1\" class=\"dataframe\">\n",
       "  <thead>\n",
       "    <tr style=\"text-align: right;\">\n",
       "      <th></th>\n",
       "      <th>Unnamed: 0</th>\n",
       "      <th>Airline Name</th>\n",
       "      <th>Overall_Rating</th>\n",
       "      <th>Review_Title</th>\n",
       "      <th>Review Date</th>\n",
       "      <th>Verified</th>\n",
       "      <th>Review</th>\n",
       "      <th>Aircraft</th>\n",
       "      <th>Type Of Traveller</th>\n",
       "      <th>Seat Type</th>\n",
       "      <th>Route</th>\n",
       "      <th>Date Flown</th>\n",
       "      <th>Seat Comfort</th>\n",
       "      <th>Cabin Staff Service</th>\n",
       "      <th>Food &amp; Beverages</th>\n",
       "      <th>Ground Service</th>\n",
       "      <th>Inflight Entertainment</th>\n",
       "      <th>Wifi &amp; Connectivity</th>\n",
       "      <th>Value For Money</th>\n",
       "      <th>Recommended</th>\n",
       "    </tr>\n",
       "  </thead>\n",
       "  <tbody>\n",
       "    <tr>\n",
       "      <th>22655</th>\n",
       "      <td>22655</td>\n",
       "      <td>Winair</td>\n",
       "      <td>1</td>\n",
       "      <td>\"Winair is a terrible airline\"</td>\n",
       "      <td>8th May 2022</td>\n",
       "      <td>False</td>\n",
       "      <td>We flew on Winair from St. Maarten to St. Eu...</td>\n",
       "      <td>NaN</td>\n",
       "      <td>Couple Leisure</td>\n",
       "      <td>Economy Class</td>\n",
       "      <td>St. Maarten to St. Eustatius</td>\n",
       "      <td>April 2022</td>\n",
       "      <td>1.0</td>\n",
       "      <td>1.0</td>\n",
       "      <td>NaN</td>\n",
       "      <td>1.0</td>\n",
       "      <td>NaN</td>\n",
       "      <td>NaN</td>\n",
       "      <td>1.0</td>\n",
       "      <td>no</td>\n",
       "    </tr>\n",
       "    <tr>\n",
       "      <th>14968</th>\n",
       "      <td>14968</td>\n",
       "      <td>Nepal Airlines</td>\n",
       "      <td>7</td>\n",
       "      <td>\"Hospitality was great from your staff\"</td>\n",
       "      <td>12th April 2021</td>\n",
       "      <td>True</td>\n",
       "      <td>I had heard lots about this airline. Somehow ...</td>\n",
       "      <td>NaN</td>\n",
       "      <td>Solo Leisure</td>\n",
       "      <td>Economy Class</td>\n",
       "      <td>Kathmandu to Dubai</td>\n",
       "      <td>March 2021</td>\n",
       "      <td>3.0</td>\n",
       "      <td>4.0</td>\n",
       "      <td>3.0</td>\n",
       "      <td>4.0</td>\n",
       "      <td>3.0</td>\n",
       "      <td>2.0</td>\n",
       "      <td>3.0</td>\n",
       "      <td>yes</td>\n",
       "    </tr>\n",
       "  </tbody>\n",
       "</table>\n",
       "</div>"
      ],
      "text/plain": [
       "       Unnamed: 0    Airline Name  ... Value For Money Recommended\n",
       "22655       22655          Winair  ...             1.0          no\n",
       "14968       14968  Nepal Airlines  ...             3.0         yes\n",
       "\n",
       "[2 rows x 20 columns]"
      ]
     },
     "execution_count": 30,
     "metadata": {},
     "output_type": "execute_result"
    }
   ],
   "source": [
    "df.sample(2)"
   ]
  },
  {
   "cell_type": "markdown",
   "metadata": {},
   "source": [
    "## Drop the unwanted columns\n"
   ]
  },
  {
   "cell_type": "code",
   "execution_count": 31,
   "metadata": {},
   "outputs": [
    {
     "data": {
      "text/html": [
       "<div>\n",
       "<style scoped>\n",
       "    .dataframe tbody tr th:only-of-type {\n",
       "        vertical-align: middle;\n",
       "    }\n",
       "\n",
       "    .dataframe tbody tr th {\n",
       "        vertical-align: top;\n",
       "    }\n",
       "\n",
       "    .dataframe thead th {\n",
       "        text-align: right;\n",
       "    }\n",
       "</style>\n",
       "<table border=\"1\" class=\"dataframe\">\n",
       "  <thead>\n",
       "    <tr style=\"text-align: right;\">\n",
       "      <th></th>\n",
       "      <th>Airline Name</th>\n",
       "      <th>Overall_Rating</th>\n",
       "      <th>Review_Title</th>\n",
       "      <th>Review Date</th>\n",
       "      <th>Verified</th>\n",
       "      <th>Review</th>\n",
       "      <th>Aircraft</th>\n",
       "      <th>Type Of Traveller</th>\n",
       "      <th>Seat Type</th>\n",
       "      <th>Route</th>\n",
       "      <th>Date Flown</th>\n",
       "      <th>Seat Comfort</th>\n",
       "      <th>Cabin Staff Service</th>\n",
       "      <th>Food &amp; Beverages</th>\n",
       "      <th>Ground Service</th>\n",
       "      <th>Inflight Entertainment</th>\n",
       "      <th>Wifi &amp; Connectivity</th>\n",
       "      <th>Value For Money</th>\n",
       "      <th>Recommended</th>\n",
       "    </tr>\n",
       "  </thead>\n",
       "  <tbody>\n",
       "    <tr>\n",
       "      <th>19328</th>\n",
       "      <td>Sunwing Airlines</td>\n",
       "      <td>4</td>\n",
       "      <td>\"I don't know what is going on with Sunwing\"</td>\n",
       "      <td>11th November 2022</td>\n",
       "      <td>True</td>\n",
       "      <td>First the good - the airplane staff are excel...</td>\n",
       "      <td>Boeing 737-800</td>\n",
       "      <td>Couple Leisure</td>\n",
       "      <td>Economy Class</td>\n",
       "      <td>Edmonton to Cancun</td>\n",
       "      <td>November 2022</td>\n",
       "      <td>3.0</td>\n",
       "      <td>5.0</td>\n",
       "      <td>1.0</td>\n",
       "      <td>4.0</td>\n",
       "      <td>1.0</td>\n",
       "      <td>1.0</td>\n",
       "      <td>2.0</td>\n",
       "      <td>no</td>\n",
       "    </tr>\n",
       "    <tr>\n",
       "      <th>22076</th>\n",
       "      <td>Viva Air</td>\n",
       "      <td>1</td>\n",
       "      <td>\"This was a terrible experience\"</td>\n",
       "      <td>16th March 2021</td>\n",
       "      <td>True</td>\n",
       "      <td>This was a terrible experience. We had to re...</td>\n",
       "      <td>NaN</td>\n",
       "      <td>Family Leisure</td>\n",
       "      <td>Economy Class</td>\n",
       "      <td>Medellin to Bogota</td>\n",
       "      <td>March 2021</td>\n",
       "      <td>NaN</td>\n",
       "      <td>NaN</td>\n",
       "      <td>NaN</td>\n",
       "      <td>1.0</td>\n",
       "      <td>NaN</td>\n",
       "      <td>NaN</td>\n",
       "      <td>1.0</td>\n",
       "      <td>no</td>\n",
       "    </tr>\n",
       "  </tbody>\n",
       "</table>\n",
       "</div>"
      ],
      "text/plain": [
       "           Airline Name Overall_Rating  ... Value For Money Recommended\n",
       "19328  Sunwing Airlines              4  ...             2.0          no\n",
       "22076          Viva Air              1  ...             1.0          no\n",
       "\n",
       "[2 rows x 19 columns]"
      ]
     },
     "execution_count": 31,
     "metadata": {},
     "output_type": "execute_result"
    }
   ],
   "source": [
    "# drop the \"Unnamed: 0\" column\n",
    "df = df.drop(columns=[\"Unnamed: 0\"])\n",
    "df.sample(2)"
   ]
  },
  {
   "cell_type": "markdown",
   "metadata": {},
   "source": [
    "## Check the % of null values with each column attribute"
   ]
  },
  {
   "cell_type": "code",
   "execution_count": 27,
   "metadata": {},
   "outputs": [
    {
     "data": {
      "text/plain": [
       "Aircraft                  69.233093\n",
       "Type Of Traveller         16.132234\n",
       "Seat Type                  4.730050\n",
       "Route                     16.520651\n",
       "Date Flown                16.201286\n",
       "Seat Comfort              17.931898\n",
       "Cabin Staff Service       18.385050\n",
       "Food & Beverages          37.421777\n",
       "Ground Service            20.685339\n",
       "Inflight Entertainment    53.264857\n",
       "Wifi & Connectivity       74.450822\n",
       "Value For Money            4.600578\n",
       "dtype: float64"
      ]
     },
     "execution_count": 27,
     "metadata": {},
     "output_type": "execute_result"
    }
   ],
   "source": [
    "df.isnull().sum()[df.isnull().sum() > 0] / len(df) * 100"
   ]
  },
  {
   "cell_type": "markdown",
   "metadata": {},
   "source": [
    "## Drop the null values"
   ]
  },
  {
   "cell_type": "code",
   "execution_count": 32,
   "metadata": {},
   "outputs": [
    {
     "data": {
      "text/plain": [
       "(1667, 19)"
      ]
     },
     "execution_count": 32,
     "metadata": {},
     "output_type": "execute_result"
    }
   ],
   "source": [
    "temp = df.dropna()\n",
    "temp.shape"
   ]
  },
  {
   "cell_type": "markdown",
   "metadata": {},
   "source": [
    "## Create SQLAlchemy engine with SQLlite and convert dataframe into SQL tables\n"
   ]
  },
  {
   "cell_type": "code",
   "execution_count": 40,
   "metadata": {},
   "outputs": [
    {
     "data": {
      "text/plain": [
       "1667"
      ]
     },
     "execution_count": 40,
     "metadata": {},
     "output_type": "execute_result"
    }
   ],
   "source": [
    "engine = create_engine(\"sqlite://\", echo=False)\n",
    "temp.to_sql(\"reviews\", con=engine)"
   ]
  },
  {
   "cell_type": "markdown",
   "metadata": {},
   "source": [
    "## Construct a SQLDatabase Index\n"
   ]
  },
  {
   "cell_type": "code",
   "execution_count": 42,
   "metadata": {},
   "outputs": [
    {
     "data": {
      "text/plain": [
       "Engine(sqlite://)"
      ]
     },
     "execution_count": 42,
     "metadata": {},
     "output_type": "execute_result"
    }
   ],
   "source": [
    "reviews_db = SQLDatabase(engine=engine, include_tables=[\"reviews\"])\n",
    "\n",
    "reviews_db.engine"
   ]
  },
  {
   "cell_type": "markdown",
   "metadata": {},
   "source": [
    "\n",
    "## Instantiate the LLM and ServieContext\n"
   ]
  },
  {
   "cell_type": "code",
   "execution_count": 43,
   "metadata": {},
   "outputs": [],
   "source": [
    "llm = OpenAI(model=\"gpt-4o-mini\", temperature=0)\n",
    "\n",
    "embedding = OpenAIEmbedding()"
   ]
  },
  {
   "cell_type": "code",
   "execution_count": 46,
   "metadata": {},
   "outputs": [],
   "source": [
    "from llama_index.core import Settings\n",
    "\n",
    "Settings.llm = llm\n",
    "Settings.embed_model = embedding\n",
    "Settings.chunk_size = 500"
   ]
  },
  {
   "cell_type": "markdown",
   "metadata": {},
   "source": [
    "## Create the Natural Language to SQL table query engine for the added SQL table\n"
   ]
  },
  {
   "cell_type": "code",
   "execution_count": 48,
   "metadata": {},
   "outputs": [],
   "source": [
    "sql_query_engine = NLSQLTableQueryEngine(\n",
    "    sql_database=reviews_db,\n",
    "    tables=[\"reviews\"],\n",
    ")"
   ]
  },
  {
   "cell_type": "markdown",
   "metadata": {},
   "source": [
    "\n",
    "## Add a detailed description making sense for the NLSQLTableQueryEngine\n"
   ]
  },
  {
   "cell_type": "code",
   "execution_count": 50,
   "metadata": {},
   "outputs": [],
   "source": [
    "description = \"Provides information about airlines reviews from reviews table. Use a detailed plain text question as input to the tool.\""
   ]
  },
  {
   "cell_type": "markdown",
   "metadata": {},
   "source": [
    "\n",
    "## Wrap all the details into QueryEngineTool\n"
   ]
  },
  {
   "cell_type": "code",
   "execution_count": 60,
   "metadata": {},
   "outputs": [],
   "source": [
    "sql_tool = QueryEngineTool.from_defaults(\n",
    "    query_engine=sql_query_engine,\n",
    "    name=\"sql_query\",\n",
    "    description=description,\n",
    ")\n",
    "\n",
    "agent = OpenAIAgent.from_tools(tools=[sql_tool], verbose=True)"
   ]
  },
  {
   "cell_type": "markdown",
   "metadata": {},
   "source": [
    "## Generate the response\n"
   ]
  },
  {
   "cell_type": "code",
   "execution_count": 61,
   "metadata": {},
   "outputs": [
    {
     "name": "stdout",
     "output_type": "stream",
     "text": [
      "Added user message to memory: What are the top 10 bad ReviewBody?\n",
      "=== Calling Function ===\n",
      "Calling function: sql_query with args: {\"input\":\"SELECT ReviewBody FROM reviews ORDER BY Rating ASC LIMIT 10;\"}\n",
      "Got output: The reviews highlight a range of experiences with various airlines, showcasing both positive and negative aspects of air travel. \n",
      "\n",
      "1. **Negative Experiences**: Several reviewers expressed dissatisfaction, particularly with Adria Airways and Aer Lingus. One passenger described a \"very bad experience\" with rerouted and canceled flights, while another noted poor customer service and issues with lost luggage on Aer Lingus. \n",
      "\n",
      "2. **Positive Experiences**: In contrast, Aegean Airlines received high praise for its helpful and courteous cabin crew, efficient check-in procedures, and overall excellent service. Reviewers appreciated the professionalism of the staff and the quality of the onboard experience.\n",
      "\n",
      "3. **Mixed Reviews**: Some travelers shared mixed feelings, noting that while certain flights were satisfactory, issues such as customer service decline and baggage handling marred their overall experience.\n",
      "\n",
      "Overall, the reviews reflect a diverse range of customer experiences, emphasizing the importance of reliable service and effective communication in the airline industry.\n",
      "========================\n",
      "\n"
     ]
    }
   ],
   "source": [
    "# question1\n",
    "response = agent.chat(\"What are the top 10 bad ReviewBody?\")"
   ]
  },
  {
   "cell_type": "code",
   "execution_count": 63,
   "metadata": {},
   "outputs": [
    {
     "name": "stdout",
     "output_type": "stream",
     "text": [
      "Added user message to memory: What is the highest overall rating provided by travellers?\n",
      "=== Calling Function ===\n",
      "Calling function: sql_query with args: {\"input\":\"SELECT MAX(Rating) FROM reviews;\"}\n",
      "Got output: The highest rating in the reviews is 9.\n",
      "========================\n",
      "\n"
     ]
    }
   ],
   "source": [
    "# question2\n",
    "response = agent.chat(\"What is the highest overall rating provided by travellers?\")"
   ]
  },
  {
   "cell_type": "code",
   "execution_count": 64,
   "metadata": {},
   "outputs": [
    {
     "name": "stdout",
     "output_type": "stream",
     "text": [
      "Added user message to memory: How many Business class travellers have given overall ratings greater than 3?\n",
      "=== Calling Function ===\n",
      "Calling function: sql_query with args: {\"input\":\"SELECT COUNT(*) FROM reviews WHERE Class = 'Business' AND Rating > 3;\"}\n",
      "Got output: It seems there was an error in the SQL query due to the use of spaces in the column name \"Type Of Traveller.\" To correct this, you should use underscores or enclose the column name in quotes. Here’s the corrected SQL query:\n",
      "\n",
      "```sql\n",
      "SELECT COUNT(*) FROM reviews WHERE Overall_Rating > 3 AND \"Type Of Traveller\" = 'Business';\n",
      "```\n",
      "\n",
      "This query will count the number of reviews where the overall rating is greater than 3 and the type of traveler is 'Business'.\n",
      "========================\n",
      "\n",
      "=== Calling Function ===\n",
      "Calling function: sql_query with args: {\"input\":\"SELECT COUNT(*) FROM reviews WHERE \\\"Type Of Traveller\\\" = 'Business' AND Rating > 3;\"}\n",
      "Got output: There are 118 reviews from business travelers that have a rating greater than 3.\n",
      "========================\n",
      "\n"
     ]
    }
   ],
   "source": [
    "response = agent.chat(\n",
    "    \"How many Business class travellers have given overall ratings greater than 3?\"\n",
    ")"
   ]
  }
 ],
 "metadata": {
  "kernelspec": {
   "display_name": ".venv",
   "language": "python",
   "name": "python3"
  },
  "language_info": {
   "codemirror_mode": {
    "name": "ipython",
    "version": 3
   },
   "file_extension": ".py",
   "mimetype": "text/x-python",
   "name": "python",
   "nbconvert_exporter": "python",
   "pygments_lexer": "ipython3",
   "version": "3.12.9"
  }
 },
 "nbformat": 4,
 "nbformat_minor": 2
}
