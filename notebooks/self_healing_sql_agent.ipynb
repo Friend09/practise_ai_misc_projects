{
 "cells": [
  {
   "cell_type": "markdown",
   "metadata": {},
   "source": [
    "# Building a Self-Healing SQL Query Generator Agent with Pydantic.ai and Groq\n"
   ]
  },
  {
   "cell_type": "markdown",
   "metadata": {},
   "source": [
    "[Building a Self-Healing SQL Query Generator Agent with Pydantic.ai and Groq](https://medium.com/the-ai-forum/building-a-self-healing-sql-query-generator-agent-with-pydantic-ai-and-groq-7045910265c0)\n"
   ]
  },
  {
   "cell_type": "markdown",
   "metadata": {},
   "source": [
    "## SETUP"
   ]
  },
  {
   "cell_type": "code",
   "execution_count": 89,
   "metadata": {},
   "outputs": [],
   "source": [
    "import os\n",
    "\n",
    "os.environ[\"OPENAI_API_KEY\"] = os.getenv(\"OPENAI_API_KEY\")\n",
    "os.environ[\"GROQ_API_KEY\"] = os.getenv(\"GROQ_API_KEY\")"
   ]
  },
  {
   "cell_type": "code",
   "execution_count": 90,
   "metadata": {},
   "outputs": [],
   "source": [
    "from pydantic_ai.models.openai import OpenAIModel\n",
    "from pydantic_ai.models.groq import GroqModel\n",
    "from pydantic_ai import Agent, ModelRetry, RunContext\n",
    "import aiosqlite\n",
    "import asyncio\n",
    "from typing import Union, TypeAlias, Annotated, Optional, Tuple\n",
    "from dataclasses import dataclass\n",
    "from pydantic import BaseModel, Field\n",
    "from annotated_types import MinLen"
   ]
  },
  {
   "cell_type": "code",
   "execution_count": 91,
   "metadata": {},
   "outputs": [],
   "source": [
    "import nest_asyncio\n",
    "\n",
    "nest_asyncio.apply()"
   ]
  },
  {
   "cell_type": "markdown",
   "metadata": {},
   "source": [
    "## Core Components"
   ]
  },
  {
   "cell_type": "code",
   "execution_count": 92,
   "metadata": {},
   "outputs": [],
   "source": [
    "# Models for type safety\n",
    "class Success(BaseModel):\n",
    "    type: str = Field(\"Success\", pattern=\"^Success$\")\n",
    "    sql_query: Annotated[str, MinLen(1)]\n",
    "    explanation: str\n",
    "\n",
    "\n",
    "class InvalidRequest(BaseModel):\n",
    "    type: str = Field(\"InvalidRequest\", pattern=\"^InvalidRequest$\")\n",
    "    error_message: str"
   ]
  },
  {
   "cell_type": "markdown",
   "metadata": {},
   "source": [
    "## Instantiate LLM"
   ]
  },
  {
   "cell_type": "code",
   "execution_count": 93,
   "metadata": {},
   "outputs": [],
   "source": [
    "openai_model = OpenAIModel(\"gpt-4o-mini\")\n",
    "groq_model = GroqModel(\"llama3-groq-70b-8192-tool-use-preview\")"
   ]
  },
  {
   "cell_type": "markdown",
   "metadata": {},
   "source": [
    "## Define DB Schema"
   ]
  },
  {
   "cell_type": "code",
   "execution_count": 94,
   "metadata": {},
   "outputs": [],
   "source": [
    "# Define the schema for our example database\n",
    "DB_SCHEMA = \"\"\"\n",
    "CREATE TABLE IF NOT EXISTS users (\n",
    "    id INTEGER PRIMARY KEY AUTOINCREMENT,\n",
    "    name TEXT NOT NULL,\n",
    "    email TEXT UNIQUE NOT NULL,\n",
    "    created_at TIMESTAMP DEFAULT CURRENT_TIMESTAMP\n",
    ");\n",
    "\n",
    "CREATE TABLE IF NOT EXISTS posts (\n",
    "    id INTEGER PRIMARY KEY AUTOINCREMENT,\n",
    "    user_id INTEGER,\n",
    "    title TEXT NOT NULL,\n",
    "    content TEXT,\n",
    "    published BOOLEAN DEFAULT FALSE,\n",
    "    created_at TIMESTAMP DEFAULT CURRENT_TIMESTAMP,\n",
    "    FOREIGN KEY (user_id) REFERENCES users(id)\n",
    ");\n",
    "\"\"\""
   ]
  },
  {
   "cell_type": "code",
   "execution_count": 95,
   "metadata": {},
   "outputs": [],
   "source": [
    "@dataclass\n",
    "class Deps:\n",
    "    conn: aiosqlite.Connection\n",
    "    db_schema: str = DB_SCHEMA"
   ]
  },
  {
   "cell_type": "markdown",
   "metadata": {},
   "source": [
    "## Query Execution and Retry Logic"
   ]
  },
  {
   "cell_type": "code",
   "execution_count": 96,
   "metadata": {},
   "outputs": [],
   "source": [
    "# First, add the missing Response type alias after the Success and InvalidRequest classes\n",
    "Response: TypeAlias = Union[Success, InvalidRequest]\n",
    "\n",
    "\n",
    "# Fix the query_database function\n",
    "async def query_database(prompt: str, conn: aiosqlite.Connection) -> RunContext:\n",
    "    max_retries = 3\n",
    "    last_error: Optional[str] = None\n",
    "\n",
    "    # Create deps for the agent\n",
    "    deps = Deps(conn=conn)\n",
    "\n",
    "    for attempt in range(max_retries):\n",
    "        try:\n",
    "            # Use sqlagent instead of agent\n",
    "            result = await sqlagent.run(prompt, deps=deps)\n",
    "\n",
    "            if isinstance(result.data, InvalidRequest):\n",
    "                return result\n",
    "\n",
    "            success, error = await execute_query(conn, result.data.sql_query)\n",
    "            if success:\n",
    "                return result\n",
    "\n",
    "            last_error = error\n",
    "            prompt = f\"\"\"\n",
    "Previous query failed with error: {error}\n",
    "Please generate a corrected SQL query for the original request: {prompt}\n",
    "\"\"\"\n",
    "        except Exception as e:\n",
    "            last_error = str(e)\n",
    "            continue\n",
    "\n",
    "    # If we've exhausted all retries, create an InvalidRequest response\n",
    "    error_response = InvalidRequest(\n",
    "        error_message=f\"Failed after {max_retries} attempts. Last error: {last_error}\"\n",
    "    )\n",
    "    # Return it in a similar context as successful responses would be\n",
    "    return RunContext(data=error_response)"
   ]
  },
  {
   "cell_type": "markdown",
   "metadata": {},
   "source": [
    "## Define the Agent"
   ]
  },
  {
   "cell_type": "code",
   "execution_count": 97,
   "metadata": {},
   "outputs": [],
   "source": [
    "sqlagent = Agent(\n",
    "    openai_model,\n",
    "    deps_type=Deps,\n",
    "    retries=3,\n",
    "    result_type=Response,\n",
    "    system_prompt=(\n",
    "        \"\"\"You are a proficient Database Administrator  having expertise in generating SQL queries. Your task is to convert natural language requests into SQL queries for a SQLite database.\n",
    "You must respond with a Success object containing a sql_query and an explanation.\n",
    "\n",
    "Database schema:\n",
    "{DB_SCHEMA}\n",
    "\n",
    "Format your response exactly like this, with no additional text or formatting:\n",
    "{{\n",
    "    \"type\": \"Success\",\n",
    "    \"sql_query\": \"<your SQL query here>\",\n",
    "    \"explanation\": \"<your explanation here>\"\n",
    "}}\n",
    "\n",
    "Examples:\n",
    "    User: show me all users who have published posts\n",
    "    {{\n",
    "        \"type\": \"Success\",\n",
    "        \"sql_query\": \"SELECT DISTINCT users.* FROM users JOIN posts ON users.id = posts.user_id WHERE posts.published = TRUE\",\n",
    "        \"explanation\": \"This query finds all users who have at least one published post by joining the users and posts tables.\"\n",
    "    }}\n",
    "\n",
    "    User: count posts by user\n",
    "    {{\n",
    "        \"type\": \"Success\",\n",
    "        \"sql_query\": \"SELECT users.name, COUNT(posts.id) as post_count FROM users LEFT JOIN posts ON users.id = posts.user_id GROUP BY users.id, users.name\",\n",
    "        \"explanation\": \"This query counts the number of posts for each user, including users with no posts using LEFT JOIN.\"\n",
    "    }}\n",
    "\n",
    "    If you receive an error message about a previous query, analyze the error and fix the issues in your new query.\n",
    "    Common fixes include:\n",
    "    - Correcting column names\n",
    "    - Fixing JOIN conditions\n",
    "    - Adjusting GROUP BY clauses\n",
    "    - Handling NULL values properly\n",
    "\n",
    "If you cannot generate a valid query, respond with:\n",
    "{{\n",
    "    \"type\": \"InvalidRequest\",\n",
    "    \"error_message\": \"<explanation of why the request cannot be processed>\"\n",
    "}}\n",
    "\n",
    "Important:\n",
    "1. Respond with ONLY the JSON object, no additional text\n",
    "2. Always include the \"type\" field as either \"Success\" or \"InvalidRequest\"\n",
    "3. All queries must be SELECT statements\n",
    "4. Provide clear explanations\n",
    "5. Use proper JOIN conditions and WHERE clauses as needed\n",
    "\"\"\"\n",
    "    ),\n",
    ")"
   ]
  },
  {
   "cell_type": "markdown",
   "metadata": {},
   "source": [
    "## Initiate DB connection"
   ]
  },
  {
   "cell_type": "code",
   "execution_count": 98,
   "metadata": {},
   "outputs": [],
   "source": [
    "async def init_database(db_path: str = \"test.db\") -> aiosqlite.Connection:\n",
    "    \"\"\"Initialize the database with schema\"\"\"\n",
    "    conn = await aiosqlite.connect(db_path)\n",
    "\n",
    "    # Enable foreign keys\n",
    "    await conn.execute(\"PRAGMA foreign_keys = ON\")\n",
    "\n",
    "    # Create schema\n",
    "    await conn.executescript(DB_SCHEMA)\n",
    "\n",
    "    # Add some sample data if the tables are empty\n",
    "    async with conn.execute(\"SELECT COUNT(*) FROM users\") as cursor:\n",
    "        count = await cursor.fetchone()\n",
    "        if count[0] == 0:\n",
    "            sample_data = \"\"\"\n",
    "            INSERT INTO users (name, email) VALUES\n",
    "                ('John Doe', 'john@example.com'),\n",
    "                ('Jane Smith', 'jane@example.com');\n",
    "\n",
    "            INSERT INTO posts (user_id, title, content, published) VALUES\n",
    "                (1, 'First Post', 'Hello World', TRUE),\n",
    "                (1, 'Draft Post', 'Work in Progress', FALSE),\n",
    "                (2, 'Jane''s Post', 'Hello from Jane', TRUE);\n",
    "            \"\"\"\n",
    "            await conn.executescript(sample_data)\n",
    "            await conn.commit()\n",
    "\n",
    "    return conn"
   ]
  },
  {
   "cell_type": "markdown",
   "metadata": {},
   "source": [
    "## Helper Function to execute SQL Query"
   ]
  },
  {
   "cell_type": "code",
   "execution_count": 99,
   "metadata": {},
   "outputs": [],
   "source": [
    "from typing import Tuple, Optional\n",
    "\n",
    "\n",
    "async def execute_query(\n",
    "    conn: aiosqlite.Connection, query: str\n",
    ") -> Tuple[bool, Optional[str]]:\n",
    "    \"\"\"\n",
    "    Execute a SQL query and return success status and error message if any.\n",
    "    Returns: (success: bool, error_message: Optional[str])\n",
    "    \"\"\"\n",
    "    try:\n",
    "        async with conn.execute(query) as cursor:\n",
    "            await cursor.fetchone()\n",
    "        return True, None\n",
    "    except Exception as e:\n",
    "        return False, str(e)"
   ]
  },
  {
   "cell_type": "markdown",
   "metadata": {},
   "source": [
    "## Helper function to invoke SQL Agent and process the query"
   ]
  },
  {
   "cell_type": "code",
   "execution_count": 88,
   "metadata": {},
   "outputs": [],
   "source": [
    "# Main function remains mostly the same, just ensure proper result access\n",
    "async def main():\n",
    "    # Ensure GROQ API key is set\n",
    "    if not os.getenv(\"GROQ_API_KEY\"):\n",
    "        raise ValueError(\"Please set GROQ_API_KEY environment variable\")\n",
    "\n",
    "    # Initialize database\n",
    "    conn = await init_database(\"test.db\")\n",
    "\n",
    "    try:\n",
    "        # Example queries to test\n",
    "        test_queries = [\n",
    "            \"show me all users and the number of posts posted\",\n",
    "            \"find users who have published posts\",\n",
    "            \"show me all draft posts with their authors\",\n",
    "            \"what is the count of users table\",\n",
    "            \"show me the title of the posts published\",\n",
    "            \"show me the structure of the posts\",\n",
    "            \"show me the names of all the users\",\n",
    "        ]\n",
    "\n",
    "        for query in test_queries:\n",
    "            print(f\"\\nProcessing query: {query}\")\n",
    "            result = await query_database(query, conn)\n",
    "            print(f\"\\nProcessing query result: {result}\")\n",
    "\n",
    "            if isinstance(result.data, InvalidRequest):\n",
    "                print(f\"Error: {result.data.error_message}\")\n",
    "            else:\n",
    "                print(\"\\n✅ Generated SQL:\")\n",
    "                print(result.data.sql_query)\n",
    "                print(\"\\n✅ Explanation:\")\n",
    "                print(result.data.explanation)\n",
    "                print(\"\\n✅ Cost:\")\n",
    "                print(result._usage)\n",
    "\n",
    "                # Execute the query to show results\n",
    "                try:\n",
    "                    async with conn.execute(result.data.sql_query) as cursor:\n",
    "                        rows = await cursor.fetchall()\n",
    "                        print(\"\\n📊 Results:\")\n",
    "                        for row in rows:\n",
    "                            print(row)\n",
    "                except Exception as e:\n",
    "                    print(f\"Error executing query: {e}\")\n",
    "                    continue\n",
    "\n",
    "            print(\"\\n\" + \"=\" * 50)\n",
    "\n",
    "    finally:\n",
    "        await conn.close()"
   ]
  },
  {
   "cell_type": "code",
   "execution_count": 100,
   "metadata": {},
   "outputs": [
    {
     "name": "stdout",
     "output_type": "stream",
     "text": [
      "\n",
      "Processing query: show me all users and the number of posts posted\n",
      "\n",
      "Processing query result: RunResult(_all_messages=[ModelRequest(parts=[SystemPromptPart(content='You are a proficient Database Administrator  having expertise in generating SQL queries. Your task is to convert natural language requests into SQL queries for a SQLite database.\\nYou must respond with a Success object containing a sql_query and an explanation.\\n\\nDatabase schema:\\n{DB_SCHEMA}\\n\\nFormat your response exactly like this, with no additional text or formatting:\\n{{\\n    \"type\": \"Success\",\\n    \"sql_query\": \"<your SQL query here>\",\\n    \"explanation\": \"<your explanation here>\"\\n}}\\n\\nExamples:\\n    User: show me all users who have published posts\\n    {{\\n        \"type\": \"Success\",\\n        \"sql_query\": \"SELECT DISTINCT users.* FROM users JOIN posts ON users.id = posts.user_id WHERE posts.published = TRUE\",\\n        \"explanation\": \"This query finds all users who have at least one published post by joining the users and posts tables.\"\\n    }}\\n\\n    User: count posts by user\\n    {{\\n        \"type\": \"Success\",\\n        \"sql_query\": \"SELECT users.name, COUNT(posts.id) as post_count FROM users LEFT JOIN posts ON users.id = posts.user_id GROUP BY users.id, users.name\",\\n        \"explanation\": \"This query counts the number of posts for each user, including users with no posts using LEFT JOIN.\"\\n    }}\\n\\n    If you receive an error message about a previous query, analyze the error and fix the issues in your new query.\\n    Common fixes include:\\n    - Correcting column names\\n    - Fixing JOIN conditions\\n    - Adjusting GROUP BY clauses\\n    - Handling NULL values properly\\n\\nIf you cannot generate a valid query, respond with:\\n{{\\n    \"type\": \"InvalidRequest\",\\n    \"error_message\": \"<explanation of why the request cannot be processed>\"\\n}}\\n\\nImportant:\\n1. Respond with ONLY the JSON object, no additional text\\n2. Always include the \"type\" field as either \"Success\" or \"InvalidRequest\"\\n3. All queries must be SELECT statements\\n4. Provide clear explanations\\n5. Use proper JOIN conditions and WHERE clauses as needed\\n', dynamic_ref=None, part_kind='system-prompt'), UserPromptPart(content='show me all users and the number of posts posted', timestamp=datetime.datetime(2025, 4, 6, 18, 27, 44, 287937, tzinfo=datetime.timezone.utc), part_kind='user-prompt')], kind='request'), ModelResponse(parts=[ToolCallPart(tool_name='final_result_Success', args='{\"sql_query\":\"SELECT users.*, COUNT(posts.id) as post_count FROM users LEFT JOIN posts ON users.id = posts.user_id GROUP BY users.id\",\"explanation\":\"This query selects all users along with the count of their posted posts by performing a LEFT JOIN between the users and posts tables and grouping the results by user ID.\"}', tool_call_id='call_NRshCgkK6UJ6ypsBpyZ4DCIv', part_kind='tool-call')], model_name='gpt-4o-mini-2024-07-18', timestamp=datetime.datetime(2025, 4, 6, 18, 27, 45, tzinfo=datetime.timezone.utc), kind='response'), ModelRequest(parts=[ToolReturnPart(tool_name='final_result_Success', content='Final result processed.', tool_call_id='call_NRshCgkK6UJ6ypsBpyZ4DCIv', timestamp=datetime.datetime(2025, 4, 6, 18, 27, 50, 286889, tzinfo=datetime.timezone.utc), part_kind='tool-return')], kind='request')], _new_message_index=0, data=Success(type='Success', sql_query='SELECT users.*, COUNT(posts.id) as post_count FROM users LEFT JOIN posts ON users.id = posts.user_id GROUP BY users.id', explanation='This query selects all users along with the count of their posted posts by performing a LEFT JOIN between the users and posts tables and grouping the results by user ID.'), _result_tool_name='final_result_Success', _usage=Usage(requests=1, request_tokens=571, response_tokens=79, total_tokens=650, details={'accepted_prediction_tokens': 0, 'audio_tokens': 0, 'reasoning_tokens': 0, 'rejected_prediction_tokens': 0, 'cached_tokens': 0}))\n",
      "\n",
      "✅ Generated SQL:\n",
      "SELECT users.*, COUNT(posts.id) as post_count FROM users LEFT JOIN posts ON users.id = posts.user_id GROUP BY users.id\n",
      "\n",
      "✅ Explanation:\n",
      "This query selects all users along with the count of their posted posts by performing a LEFT JOIN between the users and posts tables and grouping the results by user ID.\n",
      "\n",
      "✅ Cost:\n",
      "Usage(requests=1, request_tokens=571, response_tokens=79, total_tokens=650, details={'accepted_prediction_tokens': 0, 'audio_tokens': 0, 'reasoning_tokens': 0, 'rejected_prediction_tokens': 0, 'cached_tokens': 0})\n",
      "\n",
      "📊 Results:\n",
      "(1, 'John Doe', 'john@example.com', '2025-04-06 18:20:03', 2)\n",
      "(2, 'Jane Smith', 'jane@example.com', '2025-04-06 18:20:03', 1)\n",
      "\n",
      "==================================================\n",
      "\n",
      "Processing query: find users who have published posts\n",
      "\n",
      "Processing query result: RunResult(_all_messages=[ModelRequest(parts=[SystemPromptPart(content='You are a proficient Database Administrator  having expertise in generating SQL queries. Your task is to convert natural language requests into SQL queries for a SQLite database.\\nYou must respond with a Success object containing a sql_query and an explanation.\\n\\nDatabase schema:\\n{DB_SCHEMA}\\n\\nFormat your response exactly like this, with no additional text or formatting:\\n{{\\n    \"type\": \"Success\",\\n    \"sql_query\": \"<your SQL query here>\",\\n    \"explanation\": \"<your explanation here>\"\\n}}\\n\\nExamples:\\n    User: show me all users who have published posts\\n    {{\\n        \"type\": \"Success\",\\n        \"sql_query\": \"SELECT DISTINCT users.* FROM users JOIN posts ON users.id = posts.user_id WHERE posts.published = TRUE\",\\n        \"explanation\": \"This query finds all users who have at least one published post by joining the users and posts tables.\"\\n    }}\\n\\n    User: count posts by user\\n    {{\\n        \"type\": \"Success\",\\n        \"sql_query\": \"SELECT users.name, COUNT(posts.id) as post_count FROM users LEFT JOIN posts ON users.id = posts.user_id GROUP BY users.id, users.name\",\\n        \"explanation\": \"This query counts the number of posts for each user, including users with no posts using LEFT JOIN.\"\\n    }}\\n\\n    If you receive an error message about a previous query, analyze the error and fix the issues in your new query.\\n    Common fixes include:\\n    - Correcting column names\\n    - Fixing JOIN conditions\\n    - Adjusting GROUP BY clauses\\n    - Handling NULL values properly\\n\\nIf you cannot generate a valid query, respond with:\\n{{\\n    \"type\": \"InvalidRequest\",\\n    \"error_message\": \"<explanation of why the request cannot be processed>\"\\n}}\\n\\nImportant:\\n1. Respond with ONLY the JSON object, no additional text\\n2. Always include the \"type\" field as either \"Success\" or \"InvalidRequest\"\\n3. All queries must be SELECT statements\\n4. Provide clear explanations\\n5. Use proper JOIN conditions and WHERE clauses as needed\\n', dynamic_ref=None, part_kind='system-prompt'), UserPromptPart(content='find users who have published posts', timestamp=datetime.datetime(2025, 4, 6, 18, 27, 50, 288515, tzinfo=datetime.timezone.utc), part_kind='user-prompt')], kind='request'), ModelResponse(parts=[ToolCallPart(tool_name='final_result_Success', args='{\"sql_query\":\"SELECT DISTINCT users.* FROM users JOIN posts ON users.id = posts.user_id WHERE posts.published = TRUE\",\"explanation\":\"This query selects distinct users from the users table who have at least one corresponding post in the posts table that is marked as published. The join condition links users to their posts.\"}', tool_call_id='call_b3NyOOyZO3zfU3M9YIpcpcrO', part_kind='tool-call')], model_name='gpt-4o-mini-2024-07-18', timestamp=datetime.datetime(2025, 4, 6, 18, 27, 50, tzinfo=datetime.timezone.utc), kind='response'), ModelRequest(parts=[ToolReturnPart(tool_name='final_result_Success', content='Final result processed.', tool_call_id='call_b3NyOOyZO3zfU3M9YIpcpcrO', timestamp=datetime.datetime(2025, 4, 6, 18, 27, 51, 841743, tzinfo=datetime.timezone.utc), part_kind='tool-return')], kind='request')], _new_message_index=0, data=Success(type='Success', sql_query='SELECT DISTINCT users.* FROM users JOIN posts ON users.id = posts.user_id WHERE posts.published = TRUE', explanation='This query selects distinct users from the users table who have at least one corresponding post in the posts table that is marked as published. The join condition links users to their posts.'), _result_tool_name='final_result_Success', _usage=Usage(requests=1, request_tokens=567, response_tokens=77, total_tokens=644, details={'accepted_prediction_tokens': 0, 'audio_tokens': 0, 'reasoning_tokens': 0, 'rejected_prediction_tokens': 0, 'cached_tokens': 0}))\n",
      "\n",
      "✅ Generated SQL:\n",
      "SELECT DISTINCT users.* FROM users JOIN posts ON users.id = posts.user_id WHERE posts.published = TRUE\n",
      "\n",
      "✅ Explanation:\n",
      "This query selects distinct users from the users table who have at least one corresponding post in the posts table that is marked as published. The join condition links users to their posts.\n",
      "\n",
      "✅ Cost:\n",
      "Usage(requests=1, request_tokens=567, response_tokens=77, total_tokens=644, details={'accepted_prediction_tokens': 0, 'audio_tokens': 0, 'reasoning_tokens': 0, 'rejected_prediction_tokens': 0, 'cached_tokens': 0})\n",
      "\n",
      "📊 Results:\n",
      "(1, 'John Doe', 'john@example.com', '2025-04-06 18:20:03')\n",
      "(2, 'Jane Smith', 'jane@example.com', '2025-04-06 18:20:03')\n",
      "\n",
      "==================================================\n",
      "\n",
      "Processing query: show me all draft posts with their authors\n",
      "\n",
      "Processing query result: RunResult(_all_messages=[ModelRequest(parts=[SystemPromptPart(content='You are a proficient Database Administrator  having expertise in generating SQL queries. Your task is to convert natural language requests into SQL queries for a SQLite database.\\nYou must respond with a Success object containing a sql_query and an explanation.\\n\\nDatabase schema:\\n{DB_SCHEMA}\\n\\nFormat your response exactly like this, with no additional text or formatting:\\n{{\\n    \"type\": \"Success\",\\n    \"sql_query\": \"<your SQL query here>\",\\n    \"explanation\": \"<your explanation here>\"\\n}}\\n\\nExamples:\\n    User: show me all users who have published posts\\n    {{\\n        \"type\": \"Success\",\\n        \"sql_query\": \"SELECT DISTINCT users.* FROM users JOIN posts ON users.id = posts.user_id WHERE posts.published = TRUE\",\\n        \"explanation\": \"This query finds all users who have at least one published post by joining the users and posts tables.\"\\n    }}\\n\\n    User: count posts by user\\n    {{\\n        \"type\": \"Success\",\\n        \"sql_query\": \"SELECT users.name, COUNT(posts.id) as post_count FROM users LEFT JOIN posts ON users.id = posts.user_id GROUP BY users.id, users.name\",\\n        \"explanation\": \"This query counts the number of posts for each user, including users with no posts using LEFT JOIN.\"\\n    }}\\n\\n    If you receive an error message about a previous query, analyze the error and fix the issues in your new query.\\n    Common fixes include:\\n    - Correcting column names\\n    - Fixing JOIN conditions\\n    - Adjusting GROUP BY clauses\\n    - Handling NULL values properly\\n\\nIf you cannot generate a valid query, respond with:\\n{{\\n    \"type\": \"InvalidRequest\",\\n    \"error_message\": \"<explanation of why the request cannot be processed>\"\\n}}\\n\\nImportant:\\n1. Respond with ONLY the JSON object, no additional text\\n2. Always include the \"type\" field as either \"Success\" or \"InvalidRequest\"\\n3. All queries must be SELECT statements\\n4. Provide clear explanations\\n5. Use proper JOIN conditions and WHERE clauses as needed\\n', dynamic_ref=None, part_kind='system-prompt'), UserPromptPart(content='show me all draft posts with their authors', timestamp=datetime.datetime(2025, 4, 6, 18, 27, 51, 843440, tzinfo=datetime.timezone.utc), part_kind='user-prompt')], kind='request'), ModelResponse(parts=[ToolCallPart(tool_name='final_result_Success', args='{\"sql_query\": \"SELECT posts.*, users.name AS author_name FROM posts JOIN users ON posts.user_id = users.id WHERE posts.published = FALSE\", \"explanation\": \"This query retrieves all posts that are marked as draft (not published) and includes the names of their authors by joining the posts and users tables on the user_id.\"}', tool_call_id='call_NTZNZevSXDow1UBDD2Avg2uZ', part_kind='tool-call')], model_name='gpt-4o-mini-2024-07-18', timestamp=datetime.datetime(2025, 4, 6, 18, 27, 52, tzinfo=datetime.timezone.utc), kind='response'), ModelRequest(parts=[ToolReturnPart(tool_name='final_result_Success', content='Final result processed.', tool_call_id='call_NTZNZevSXDow1UBDD2Avg2uZ', timestamp=datetime.datetime(2025, 4, 6, 18, 27, 53, 726471, tzinfo=datetime.timezone.utc), part_kind='tool-return')], kind='request')], _new_message_index=0, data=Success(type='Success', sql_query='SELECT posts.*, users.name AS author_name FROM posts JOIN users ON posts.user_id = users.id WHERE posts.published = FALSE', explanation='This query retrieves all posts that are marked as draft (not published) and includes the names of their authors by joining the posts and users tables on the user_id.'), _result_tool_name='final_result_Success', _usage=Usage(requests=1, request_tokens=569, response_tokens=95, total_tokens=664, details={'accepted_prediction_tokens': 0, 'audio_tokens': 0, 'reasoning_tokens': 0, 'rejected_prediction_tokens': 0, 'cached_tokens': 0}))\n",
      "\n",
      "✅ Generated SQL:\n",
      "SELECT posts.*, users.name AS author_name FROM posts JOIN users ON posts.user_id = users.id WHERE posts.published = FALSE\n",
      "\n",
      "✅ Explanation:\n",
      "This query retrieves all posts that are marked as draft (not published) and includes the names of their authors by joining the posts and users tables on the user_id.\n",
      "\n",
      "✅ Cost:\n",
      "Usage(requests=1, request_tokens=569, response_tokens=95, total_tokens=664, details={'accepted_prediction_tokens': 0, 'audio_tokens': 0, 'reasoning_tokens': 0, 'rejected_prediction_tokens': 0, 'cached_tokens': 0})\n",
      "\n",
      "📊 Results:\n",
      "(2, 1, 'Draft Post', 'Work in Progress', 0, '2025-04-06 18:20:03', 'John Doe')\n",
      "\n",
      "==================================================\n",
      "\n",
      "Processing query: what is the count of users table\n",
      "\n",
      "Processing query result: RunResult(_all_messages=[ModelRequest(parts=[SystemPromptPart(content='You are a proficient Database Administrator  having expertise in generating SQL queries. Your task is to convert natural language requests into SQL queries for a SQLite database.\\nYou must respond with a Success object containing a sql_query and an explanation.\\n\\nDatabase schema:\\n{DB_SCHEMA}\\n\\nFormat your response exactly like this, with no additional text or formatting:\\n{{\\n    \"type\": \"Success\",\\n    \"sql_query\": \"<your SQL query here>\",\\n    \"explanation\": \"<your explanation here>\"\\n}}\\n\\nExamples:\\n    User: show me all users who have published posts\\n    {{\\n        \"type\": \"Success\",\\n        \"sql_query\": \"SELECT DISTINCT users.* FROM users JOIN posts ON users.id = posts.user_id WHERE posts.published = TRUE\",\\n        \"explanation\": \"This query finds all users who have at least one published post by joining the users and posts tables.\"\\n    }}\\n\\n    User: count posts by user\\n    {{\\n        \"type\": \"Success\",\\n        \"sql_query\": \"SELECT users.name, COUNT(posts.id) as post_count FROM users LEFT JOIN posts ON users.id = posts.user_id GROUP BY users.id, users.name\",\\n        \"explanation\": \"This query counts the number of posts for each user, including users with no posts using LEFT JOIN.\"\\n    }}\\n\\n    If you receive an error message about a previous query, analyze the error and fix the issues in your new query.\\n    Common fixes include:\\n    - Correcting column names\\n    - Fixing JOIN conditions\\n    - Adjusting GROUP BY clauses\\n    - Handling NULL values properly\\n\\nIf you cannot generate a valid query, respond with:\\n{{\\n    \"type\": \"InvalidRequest\",\\n    \"error_message\": \"<explanation of why the request cannot be processed>\"\\n}}\\n\\nImportant:\\n1. Respond with ONLY the JSON object, no additional text\\n2. Always include the \"type\" field as either \"Success\" or \"InvalidRequest\"\\n3. All queries must be SELECT statements\\n4. Provide clear explanations\\n5. Use proper JOIN conditions and WHERE clauses as needed\\n', dynamic_ref=None, part_kind='system-prompt'), UserPromptPart(content='what is the count of users table', timestamp=datetime.datetime(2025, 4, 6, 18, 27, 53, 728733, tzinfo=datetime.timezone.utc), part_kind='user-prompt')], kind='request'), ModelResponse(parts=[ToolCallPart(tool_name='final_result_Success', args='{\"sql_query\": \"SELECT COUNT(*) as user_count FROM users\", \"explanation\": \"This query counts the total number of rows in the users table, providing the count of users.\"}', tool_call_id='call_xTNn5EuMk0eCQRQDqL0KYjFY', part_kind='tool-call')], model_name='gpt-4o-mini-2024-07-18', timestamp=datetime.datetime(2025, 4, 6, 18, 27, 54, tzinfo=datetime.timezone.utc), kind='response'), ModelRequest(parts=[ToolReturnPart(tool_name='final_result_Success', content='Final result processed.', tool_call_id='call_xTNn5EuMk0eCQRQDqL0KYjFY', timestamp=datetime.datetime(2025, 4, 6, 18, 27, 55, 302694, tzinfo=datetime.timezone.utc), part_kind='tool-return')], kind='request')], _new_message_index=0, data=Success(type='Success', sql_query='SELECT COUNT(*) as user_count FROM users', explanation='This query counts the total number of rows in the users table, providing the count of users.'), _result_tool_name='final_result_Success', _usage=Usage(requests=1, request_tokens=568, response_tokens=64, total_tokens=632, details={'accepted_prediction_tokens': 0, 'audio_tokens': 0, 'reasoning_tokens': 0, 'rejected_prediction_tokens': 0, 'cached_tokens': 0}))\n",
      "\n",
      "✅ Generated SQL:\n",
      "SELECT COUNT(*) as user_count FROM users\n",
      "\n",
      "✅ Explanation:\n",
      "This query counts the total number of rows in the users table, providing the count of users.\n",
      "\n",
      "✅ Cost:\n",
      "Usage(requests=1, request_tokens=568, response_tokens=64, total_tokens=632, details={'accepted_prediction_tokens': 0, 'audio_tokens': 0, 'reasoning_tokens': 0, 'rejected_prediction_tokens': 0, 'cached_tokens': 0})\n",
      "\n",
      "📊 Results:\n",
      "(2,)\n",
      "\n",
      "==================================================\n",
      "\n",
      "Processing query: show me the title of the posts published\n",
      "\n",
      "Processing query result: RunResult(_all_messages=[ModelRequest(parts=[SystemPromptPart(content='You are a proficient Database Administrator  having expertise in generating SQL queries. Your task is to convert natural language requests into SQL queries for a SQLite database.\\nYou must respond with a Success object containing a sql_query and an explanation.\\n\\nDatabase schema:\\n{DB_SCHEMA}\\n\\nFormat your response exactly like this, with no additional text or formatting:\\n{{\\n    \"type\": \"Success\",\\n    \"sql_query\": \"<your SQL query here>\",\\n    \"explanation\": \"<your explanation here>\"\\n}}\\n\\nExamples:\\n    User: show me all users who have published posts\\n    {{\\n        \"type\": \"Success\",\\n        \"sql_query\": \"SELECT DISTINCT users.* FROM users JOIN posts ON users.id = posts.user_id WHERE posts.published = TRUE\",\\n        \"explanation\": \"This query finds all users who have at least one published post by joining the users and posts tables.\"\\n    }}\\n\\n    User: count posts by user\\n    {{\\n        \"type\": \"Success\",\\n        \"sql_query\": \"SELECT users.name, COUNT(posts.id) as post_count FROM users LEFT JOIN posts ON users.id = posts.user_id GROUP BY users.id, users.name\",\\n        \"explanation\": \"This query counts the number of posts for each user, including users with no posts using LEFT JOIN.\"\\n    }}\\n\\n    If you receive an error message about a previous query, analyze the error and fix the issues in your new query.\\n    Common fixes include:\\n    - Correcting column names\\n    - Fixing JOIN conditions\\n    - Adjusting GROUP BY clauses\\n    - Handling NULL values properly\\n\\nIf you cannot generate a valid query, respond with:\\n{{\\n    \"type\": \"InvalidRequest\",\\n    \"error_message\": \"<explanation of why the request cannot be processed>\"\\n}}\\n\\nImportant:\\n1. Respond with ONLY the JSON object, no additional text\\n2. Always include the \"type\" field as either \"Success\" or \"InvalidRequest\"\\n3. All queries must be SELECT statements\\n4. Provide clear explanations\\n5. Use proper JOIN conditions and WHERE clauses as needed\\n', dynamic_ref=None, part_kind='system-prompt'), UserPromptPart(content='show me the title of the posts published', timestamp=datetime.datetime(2025, 4, 6, 18, 27, 55, 305556, tzinfo=datetime.timezone.utc), part_kind='user-prompt')], kind='request'), ModelResponse(parts=[ToolCallPart(tool_name='final_result_Success', args='{\"type\":\"Success\",\"sql_query\":\"SELECT title FROM posts WHERE published = TRUE\",\"explanation\":\"This query retrieves the titles of all posts where the published flag is set to TRUE, indicating that the posts have been published.\"}', tool_call_id='call_0fYc7ql147u6MBUqcYxdcZUA', part_kind='tool-call')], model_name='gpt-4o-mini-2024-07-18', timestamp=datetime.datetime(2025, 4, 6, 18, 27, 55, tzinfo=datetime.timezone.utc), kind='response'), ModelRequest(parts=[ToolReturnPart(tool_name='final_result_Success', content='Final result processed.', tool_call_id='call_0fYc7ql147u6MBUqcYxdcZUA', timestamp=datetime.datetime(2025, 4, 6, 18, 27, 56, 728279, tzinfo=datetime.timezone.utc), part_kind='tool-return')], kind='request')], _new_message_index=0, data=Success(type='Success', sql_query='SELECT title FROM posts WHERE published = TRUE', explanation='This query retrieves the titles of all posts where the published flag is set to TRUE, indicating that the posts have been published.'), _result_tool_name='final_result_Success', _usage=Usage(requests=1, request_tokens=569, response_tokens=58, total_tokens=627, details={'accepted_prediction_tokens': 0, 'audio_tokens': 0, 'reasoning_tokens': 0, 'rejected_prediction_tokens': 0, 'cached_tokens': 0}))\n",
      "\n",
      "✅ Generated SQL:\n",
      "SELECT title FROM posts WHERE published = TRUE\n",
      "\n",
      "✅ Explanation:\n",
      "This query retrieves the titles of all posts where the published flag is set to TRUE, indicating that the posts have been published.\n",
      "\n",
      "✅ Cost:\n",
      "Usage(requests=1, request_tokens=569, response_tokens=58, total_tokens=627, details={'accepted_prediction_tokens': 0, 'audio_tokens': 0, 'reasoning_tokens': 0, 'rejected_prediction_tokens': 0, 'cached_tokens': 0})\n",
      "\n",
      "📊 Results:\n",
      "('First Post',)\n",
      "(\"Jane's Post\",)\n",
      "\n",
      "==================================================\n",
      "\n",
      "Processing query: show me the structure of the posts\n",
      "\n",
      "Processing query result: RunResult(_all_messages=[ModelRequest(parts=[SystemPromptPart(content='You are a proficient Database Administrator  having expertise in generating SQL queries. Your task is to convert natural language requests into SQL queries for a SQLite database.\\nYou must respond with a Success object containing a sql_query and an explanation.\\n\\nDatabase schema:\\n{DB_SCHEMA}\\n\\nFormat your response exactly like this, with no additional text or formatting:\\n{{\\n    \"type\": \"Success\",\\n    \"sql_query\": \"<your SQL query here>\",\\n    \"explanation\": \"<your explanation here>\"\\n}}\\n\\nExamples:\\n    User: show me all users who have published posts\\n    {{\\n        \"type\": \"Success\",\\n        \"sql_query\": \"SELECT DISTINCT users.* FROM users JOIN posts ON users.id = posts.user_id WHERE posts.published = TRUE\",\\n        \"explanation\": \"This query finds all users who have at least one published post by joining the users and posts tables.\"\\n    }}\\n\\n    User: count posts by user\\n    {{\\n        \"type\": \"Success\",\\n        \"sql_query\": \"SELECT users.name, COUNT(posts.id) as post_count FROM users LEFT JOIN posts ON users.id = posts.user_id GROUP BY users.id, users.name\",\\n        \"explanation\": \"This query counts the number of posts for each user, including users with no posts using LEFT JOIN.\"\\n    }}\\n\\n    If you receive an error message about a previous query, analyze the error and fix the issues in your new query.\\n    Common fixes include:\\n    - Correcting column names\\n    - Fixing JOIN conditions\\n    - Adjusting GROUP BY clauses\\n    - Handling NULL values properly\\n\\nIf you cannot generate a valid query, respond with:\\n{{\\n    \"type\": \"InvalidRequest\",\\n    \"error_message\": \"<explanation of why the request cannot be processed>\"\\n}}\\n\\nImportant:\\n1. Respond with ONLY the JSON object, no additional text\\n2. Always include the \"type\" field as either \"Success\" or \"InvalidRequest\"\\n3. All queries must be SELECT statements\\n4. Provide clear explanations\\n5. Use proper JOIN conditions and WHERE clauses as needed\\n', dynamic_ref=None, part_kind='system-prompt'), UserPromptPart(content='show me the structure of the posts', timestamp=datetime.datetime(2025, 4, 6, 18, 27, 56, 731328, tzinfo=datetime.timezone.utc), part_kind='user-prompt')], kind='request'), ModelResponse(parts=[ToolCallPart(tool_name='final_result_InvalidRequest', args='{\"error_message\":\"The request is asking for the structure of the posts, which cannot be represented by a SQL SELECT statement as it pertains to schema description rather than data retrieval.\"}', tool_call_id='call_QkWvWAJQVZ2Isxl0CfG6zo4O', part_kind='tool-call')], model_name='gpt-4o-mini-2024-07-18', timestamp=datetime.datetime(2025, 4, 6, 18, 27, 57, tzinfo=datetime.timezone.utc), kind='response'), ModelRequest(parts=[ToolReturnPart(tool_name='final_result_InvalidRequest', content='Final result processed.', tool_call_id='call_QkWvWAJQVZ2Isxl0CfG6zo4O', timestamp=datetime.datetime(2025, 4, 6, 18, 27, 58, 212731, tzinfo=datetime.timezone.utc), part_kind='tool-return')], kind='request')], _new_message_index=0, data=InvalidRequest(type='InvalidRequest', error_message='The request is asking for the structure of the posts, which cannot be represented by a SQL SELECT statement as it pertains to schema description rather than data retrieval.'), _result_tool_name='final_result_InvalidRequest', _usage=Usage(requests=1, request_tokens=568, response_tokens=48, total_tokens=616, details={'accepted_prediction_tokens': 0, 'audio_tokens': 0, 'reasoning_tokens': 0, 'rejected_prediction_tokens': 0, 'cached_tokens': 0}))\n",
      "Error: The request is asking for the structure of the posts, which cannot be represented by a SQL SELECT statement as it pertains to schema description rather than data retrieval.\n",
      "\n",
      "==================================================\n",
      "\n",
      "Processing query: show me the names of all the users\n",
      "\n",
      "Processing query result: RunResult(_all_messages=[ModelRequest(parts=[SystemPromptPart(content='You are a proficient Database Administrator  having expertise in generating SQL queries. Your task is to convert natural language requests into SQL queries for a SQLite database.\\nYou must respond with a Success object containing a sql_query and an explanation.\\n\\nDatabase schema:\\n{DB_SCHEMA}\\n\\nFormat your response exactly like this, with no additional text or formatting:\\n{{\\n    \"type\": \"Success\",\\n    \"sql_query\": \"<your SQL query here>\",\\n    \"explanation\": \"<your explanation here>\"\\n}}\\n\\nExamples:\\n    User: show me all users who have published posts\\n    {{\\n        \"type\": \"Success\",\\n        \"sql_query\": \"SELECT DISTINCT users.* FROM users JOIN posts ON users.id = posts.user_id WHERE posts.published = TRUE\",\\n        \"explanation\": \"This query finds all users who have at least one published post by joining the users and posts tables.\"\\n    }}\\n\\n    User: count posts by user\\n    {{\\n        \"type\": \"Success\",\\n        \"sql_query\": \"SELECT users.name, COUNT(posts.id) as post_count FROM users LEFT JOIN posts ON users.id = posts.user_id GROUP BY users.id, users.name\",\\n        \"explanation\": \"This query counts the number of posts for each user, including users with no posts using LEFT JOIN.\"\\n    }}\\n\\n    If you receive an error message about a previous query, analyze the error and fix the issues in your new query.\\n    Common fixes include:\\n    - Correcting column names\\n    - Fixing JOIN conditions\\n    - Adjusting GROUP BY clauses\\n    - Handling NULL values properly\\n\\nIf you cannot generate a valid query, respond with:\\n{{\\n    \"type\": \"InvalidRequest\",\\n    \"error_message\": \"<explanation of why the request cannot be processed>\"\\n}}\\n\\nImportant:\\n1. Respond with ONLY the JSON object, no additional text\\n2. Always include the \"type\" field as either \"Success\" or \"InvalidRequest\"\\n3. All queries must be SELECT statements\\n4. Provide clear explanations\\n5. Use proper JOIN conditions and WHERE clauses as needed\\n', dynamic_ref=None, part_kind='system-prompt'), UserPromptPart(content='show me the names of all the users', timestamp=datetime.datetime(2025, 4, 6, 18, 27, 58, 215687, tzinfo=datetime.timezone.utc), part_kind='user-prompt')], kind='request'), ModelResponse(parts=[ToolCallPart(tool_name='final_result_Success', args='{\"sql_query\":\"SELECT name FROM users\",\"explanation\":\"This query selects the \\'name\\' column from the \\'users\\' table to display the names of all users.\"}', tool_call_id='call_smlxiiGR5vBYYRZieydLpnx3', part_kind='tool-call')], model_name='gpt-4o-mini-2024-07-18', timestamp=datetime.datetime(2025, 4, 6, 18, 27, 58, tzinfo=datetime.timezone.utc), kind='response'), ModelRequest(parts=[ToolReturnPart(tool_name='final_result_Success', content='Final result processed.', tool_call_id='call_smlxiiGR5vBYYRZieydLpnx3', timestamp=datetime.datetime(2025, 4, 6, 18, 27, 59, 550378, tzinfo=datetime.timezone.utc), part_kind='tool-return')], kind='request')], _new_message_index=0, data=Success(type='Success', sql_query='SELECT name FROM users', explanation=\"This query selects the 'name' column from the 'users' table to display the names of all users.\"), _result_tool_name='final_result_Success', _usage=Usage(requests=1, request_tokens=569, response_tokens=47, total_tokens=616, details={'accepted_prediction_tokens': 0, 'audio_tokens': 0, 'reasoning_tokens': 0, 'rejected_prediction_tokens': 0, 'cached_tokens': 0}))\n",
      "\n",
      "✅ Generated SQL:\n",
      "SELECT name FROM users\n",
      "\n",
      "✅ Explanation:\n",
      "This query selects the 'name' column from the 'users' table to display the names of all users.\n",
      "\n",
      "✅ Cost:\n",
      "Usage(requests=1, request_tokens=569, response_tokens=47, total_tokens=616, details={'accepted_prediction_tokens': 0, 'audio_tokens': 0, 'reasoning_tokens': 0, 'rejected_prediction_tokens': 0, 'cached_tokens': 0})\n",
      "\n",
      "📊 Results:\n",
      "('John Doe',)\n",
      "('Jane Smith',)\n",
      "\n",
      "==================================================\n"
     ]
    }
   ],
   "source": [
    "asyncio.run(main())"
   ]
  }
 ],
 "metadata": {
  "kernelspec": {
   "display_name": ".venv",
   "language": "python",
   "name": "python3"
  },
  "language_info": {
   "codemirror_mode": {
    "name": "ipython",
    "version": 3
   },
   "file_extension": ".py",
   "mimetype": "text/x-python",
   "name": "python",
   "nbconvert_exporter": "python",
   "pygments_lexer": "ipython3",
   "version": "3.12.9"
  }
 },
 "nbformat": 4,
 "nbformat_minor": 2
}
