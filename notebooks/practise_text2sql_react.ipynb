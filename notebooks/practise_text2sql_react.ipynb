{
 "cells": [
  {
   "cell_type": "markdown",
   "metadata": {},
   "source": [
    "# Enhancing Text-to-SQL Agents with Step-by-Step Reasoning\n"
   ]
  },
  {
   "cell_type": "markdown",
   "metadata": {},
   "source": [
    "[Enhancing Text-to-SQL Agents with Step-by-Step Reasoning](https://yia333.medium.com/implementing-reasoning-in-text-to-sql-agents-f979331176b4)\n"
   ]
  },
  {
   "cell_type": "markdown",
   "metadata": {},
   "source": [
    "## SETUP\n"
   ]
  },
  {
   "cell_type": "code",
   "execution_count": 2,
   "metadata": {},
   "outputs": [],
   "source": [
    "import os\n",
    "from typing import Dict, Any\n",
    "import re\n",
    "\n",
    "from typing_extensions import TypedDict\n",
    "from typing import Annotated, Optional\n",
    "from langchain_community.agent_toolkits import SQLDatabaseToolkit\n",
    "from langchain_community.utilities import SQLDatabase\n",
    "from langchain_openai import ChatOpenAI\n",
    "from langchain_core.prompts import ChatPromptTemplate, MessagesPlaceholder\n",
    "\n",
    "from sqlalchemy import create_engine\n",
    "\n",
    "from langgraph.prebuilt import ToolNode, tools_condition\n",
    "from langgraph.graph import END, StateGraph\n",
    "from langgraph.graph.message import add_messages\n",
    "from langgraph.checkpoint.memory import MemorySaver"
   ]
  },
  {
   "cell_type": "markdown",
   "metadata": {},
   "source": [
    "## LLM\n"
   ]
  },
  {
   "cell_type": "code",
   "execution_count": 3,
   "metadata": {},
   "outputs": [],
   "source": [
    "from dotenv import load_dotenv, find_dotenv\n",
    "\n",
    "_ = load_dotenv(find_dotenv())\n",
    "OPENAI_API_KEY = os.getenv(\"OPENAI_API_KEY\")"
   ]
  },
  {
   "cell_type": "code",
   "execution_count": 4,
   "metadata": {},
   "outputs": [
    {
     "data": {
      "text/plain": [
       "'2 + 2 equals 4.'"
      ]
     },
     "execution_count": 4,
     "metadata": {},
     "output_type": "execute_result"
    }
   ],
   "source": [
    "llm_openai = ChatOpenAI(model=\"gpt-4o-mini\", api_key=OPENAI_API_KEY)\n",
    "llm_openai.invoke(\"what is 2+2\").content"
   ]
  },
  {
   "cell_type": "markdown",
   "metadata": {},
   "source": [
    "## DATA\n"
   ]
  },
  {
   "cell_type": "code",
   "execution_count": 5,
   "metadata": {},
   "outputs": [],
   "source": [
    "db_file = \"./chinook.db\"\n",
    "engine = create_engine(f\"sqlite:///{db_file}\")\n",
    "db = SQLDatabase(engine=engine)"
   ]
  },
  {
   "cell_type": "code",
   "execution_count": 6,
   "metadata": {},
   "outputs": [],
   "source": [
    "toolkit = SQLDatabaseToolkit(db=db, llm=llm_openai)\n",
    "sql_db_toolkit_tools = toolkit.get_tools()"
   ]
  },
  {
   "cell_type": "markdown",
   "metadata": {},
   "source": [
    "## CREATE THE CHAIN\n"
   ]
  },
  {
   "cell_type": "code",
   "execution_count": 17,
   "metadata": {},
   "outputs": [],
   "source": [
    "# define the prompt\n",
    "query_gen_system = \"\"\"\n",
    "You are an SQL expert who helps analyze database queries. You have access to tools for interacting with the database. When given a question, you'll think through it carefully and explain your reasoning in natural language.\n",
    "\n",
    "Then you'll walk through your analysis process:\n",
    "\n",
    "1. First, you'll understand what tables and data you need\n",
    "2. Then, you'll verify the schema and relationships\n",
    "3. Finally, you'll construct an appropriate SQL query\n",
    "\n",
    "For each query, you'll think about:\n",
    "- What tables are involved and how they connect\n",
    "- Any special conditions or filters needed\n",
    "- How to handle potential edge cases\n",
    "- The most efficient way to get the results\n",
    "\n",
    "<reasoning>\n",
    "You will **always** include this section before writing a query. Here, you will:\n",
    "- Explain what information you need and why\n",
    "- Describe your expected outcome\n",
    "- Identify potential challenges\n",
    "- Justify your query structure\n",
    "\n",
    "If this section is missing, you will rewrite your response to include it.\n",
    "</reasoning>\n",
    "\n",
    "<analysis>\n",
    "Here you break down the key components needed for the query:\n",
    "- Required tables and joins\n",
    "- Important columns and calculations\n",
    "- Any specific filters or conditions\n",
    "- Proper ordering and grouping\n",
    "</analysis>\n",
    "\n",
    "<query>\n",
    "The final SQL query\n",
    "</query>\n",
    "\n",
    "<error_check>\n",
    "If there's an error, you'll explain:\n",
    "- What went wrong\n",
    "- Why it happened\n",
    "- How to fix it\n",
    "</error_check>\n",
    "\n",
    "<final_check>\n",
    "Before finalizing, you will verify:\n",
    "- Did you include a clear reasoning section?\n",
    "- Did you explain your approach before querying?\n",
    "- Did you provide an analysis of the query structure?\n",
    "- If any of these are missing, you will revise your response.\n",
    "</final_check>\n",
    "\n",
    "Important rules:\n",
    "1. Only use SELECT statements, no modifications\n",
    "2. Verify all schema assumptions\n",
    "3. Use proper SQLite syntax\n",
    "4. Limit results to 10 unless specified\n",
    "5. Double-check all joins and conditions\n",
    "6. Always include tool_analysis and tool_reasoning for each tool call\n",
    "\"\"\""
   ]
  },
  {
   "cell_type": "code",
   "execution_count": null,
   "metadata": {},
   "outputs": [],
   "source": [
    "# create the prompt template\n",
    "query_gen_prompt = ChatPromptTemplate.from_messages(\n",
    "    [\n",
    "        (\"system\", query_gen_system),\n",
    "        (MessagesPlaceholder(variable_name=\"messages\")),\n",
    "    ]\n",
    ")"
   ]
  },
  {
   "cell_type": "code",
   "execution_count": null,
   "metadata": {},
   "outputs": [],
   "source": [
    "# create chain\n",
    "query_gen_model = query_gen_prompt | llm_openai.bind_tools(tools=sql_db_toolkit_tools)"
   ]
  },
  {
   "cell_type": "markdown",
   "metadata": {},
   "source": [
    "## GRAPH"
   ]
  },
  {
   "cell_type": "code",
   "execution_count": 27,
   "metadata": {},
   "outputs": [],
   "source": [
    "class State(TypedDict):\n",
    "    messages: Annotated[list, add_messages]\n",
    "\n",
    "\n",
    "graph_builder = StateGraph(State)"
   ]
  },
  {
   "cell_type": "code",
   "execution_count": 28,
   "metadata": {},
   "outputs": [
    {
     "data": {
      "text/plain": [
       "<langgraph.graph.state.StateGraph at 0x1175c14f0>"
      ]
     },
     "execution_count": 28,
     "metadata": {},
     "output_type": "execute_result"
    }
   ],
   "source": [
    "def query_gen_node(state: State):\n",
    "    return {\"messages\": [query_gen_model.invoke(state[\"messages\"])]}\n",
    "\n",
    "\n",
    "checkpointer = MemorySaver()\n",
    "graph_builder.add_node(\"query_gen\", query_gen_node)"
   ]
  },
  {
   "cell_type": "code",
   "execution_count": 29,
   "metadata": {},
   "outputs": [
    {
     "data": {
      "text/plain": [
       "<langgraph.graph.state.StateGraph at 0x1175c14f0>"
      ]
     },
     "execution_count": 29,
     "metadata": {},
     "output_type": "execute_result"
    }
   ],
   "source": [
    "query_gen_tools_node = ToolNode(tools=sql_db_toolkit_tools)\n",
    "graph_builder.add_node(\"query_gen_tools\", query_gen_tools_node)"
   ]
  },
  {
   "cell_type": "code",
   "execution_count": 30,
   "metadata": {},
   "outputs": [],
   "source": [
    "graph_builder.add_conditional_edges(\n",
    "    \"query_gen\", tools_condition, {\"tools\": \"query_gen_tools\", END: END}\n",
    ")\n",
    "\n",
    "graph_builder.add_edge(\"query_gen_tools\", \"query_gen\")\n",
    "graph_builder.set_entry_point(\"query_gen\")\n",
    "graph = graph_builder.compile(checkpointer=checkpointer)"
   ]
  },
  {
   "cell_type": "code",
   "execution_count": 31,
   "metadata": {},
   "outputs": [],
   "source": [
    "def format_section(title: str, content: str) -> str:\n",
    "    if not content:\n",
    "        return \"\"\n",
    "    return f\"\\n{content}\\n\""
   ]
  },
  {
   "cell_type": "code",
   "execution_count": 32,
   "metadata": {},
   "outputs": [],
   "source": [
    "def extract_section(text: str, section: str) -> str:\n",
    "    pattern = f\"<{section}>(.*?)</{section}>\"\n",
    "    match = re.search(pattern, text, re.DOTALL)\n",
    "    return match.group(1).strip() if match else \"\""
   ]
  },
  {
   "cell_type": "code",
   "execution_count": 33,
   "metadata": {},
   "outputs": [],
   "source": [
    "def process_event(event: Dict[str, Any]) -> Optional[str]:\n",
    "    if \"query_gen\" in event:\n",
    "        messages = event[\"query_gen\"][\"messages\"]\n",
    "        for message in messages:\n",
    "            content = message.content if hasattr(message, \"content\") else \"\"\n",
    "\n",
    "            reasoning = extract_section(content, \"reasoning\")\n",
    "            if reasoning:\n",
    "                print(format_section(\"\", reasoning))\n",
    "\n",
    "            analysis = extract_section(content, \"analysis\")\n",
    "            if analysis:\n",
    "                print(format_section(\"\", analysis))\n",
    "\n",
    "            error_check = extract_section(content, \"error_check\")\n",
    "            if error_check:\n",
    "                print(format_section(\"\", error_check))\n",
    "\n",
    "            final_check = extract_section(content, \"final_check\")\n",
    "            if final_check:\n",
    "                print(format_section(\"\", final_check))\n",
    "\n",
    "            if hasattr(message, \"tool_calls\"):\n",
    "                for tool_call in message.tool_calls:\n",
    "                    tool_name = tool_call[\"name\"]\n",
    "                    if tool_name == \"sql_db_query\":\n",
    "                        return tool_call[\"args\"][\"query\"]\n",
    "\n",
    "            query = extract_section(content, \"query\")\n",
    "            if query:\n",
    "                sql_match = re.search(r\"```sql\\n(.*?)\\n```\", query, re.DOTALL)\n",
    "                if sql_match:\n",
    "                    return format_section(\"\", query)\n",
    "\n",
    "    return None"
   ]
  },
  {
   "cell_type": "code",
   "execution_count": 34,
   "metadata": {},
   "outputs": [],
   "source": [
    "def run_query(query_text: str):\n",
    "    print(f\"\\nAnalyzing your question: {query_text}\")\n",
    "    final_sql = None\n",
    "\n",
    "    for event in graph.stream(\n",
    "        {\"messages\": [(\"user\", query_text)]}, config={\"configurable\": {\"thread_id\": 12}}\n",
    "    ):\n",
    "        sql = process_event(event)\n",
    "        if sql:\n",
    "            final_sql = sql\n",
    "\n",
    "    if final_sql:\n",
    "        print(\n",
    "            \"\\nBased on my analysis, here's the SQL query that will answer your question:\"\n",
    "        )\n",
    "        print(f\"\\n{final_sql}\")\n",
    "        return final_sql"
   ]
  },
  {
   "cell_type": "code",
   "execution_count": 35,
   "metadata": {},
   "outputs": [],
   "source": [
    "def interactive_sql():\n",
    "    print(\"\\nWelcome to the SQL Assistant! Type 'exit' to quit.\")\n",
    "\n",
    "    while True:\n",
    "        try:\n",
    "            query = input(\"\\nWhat would you like to know? \")\n",
    "            if query.lower() in [\"exit\", \"quit\"]:\n",
    "                print(\"\\nThank you for using SQL Assistant!\")\n",
    "                break\n",
    "\n",
    "            run_query(query)\n",
    "\n",
    "        except KeyboardInterrupt:\n",
    "            print(\"\\nThank you for using SQL Assistant!\")\n",
    "            break\n",
    "        except Exception as e:\n",
    "            print(f\"\\nAn error occurred: {str(e)}\")\n",
    "            print(\"Please try again with a different query.\")"
   ]
  },
  {
   "cell_type": "code",
   "execution_count": null,
   "metadata": {},
   "outputs": [
    {
     "name": "stdout",
     "output_type": "stream",
     "text": [
      "\n",
      "Welcome to the SQL Assistant! Type 'exit' to quit.\n",
      "\n",
      "Analyzing your question: what is this database about\n",
      "\n",
      "Analyzing your question: how many tables are there\n",
      "\n",
      "Analyzing your question: get me top 5 elements\n",
      "\n",
      "Analyzing your question: get me top albums\n"
     ]
    }
   ],
   "source": [
    "if __name__ == \"__main__\":\n",
    "    interactive_sql()"
   ]
  }
 ],
 "metadata": {
  "kernelspec": {
   "display_name": ".venv",
   "language": "python",
   "name": "python3"
  },
  "language_info": {
   "codemirror_mode": {
    "name": "ipython",
    "version": 3
   },
   "file_extension": ".py",
   "mimetype": "text/x-python",
   "name": "python",
   "nbconvert_exporter": "python",
   "pygments_lexer": "ipython3",
   "version": "3.12.9"
  }
 },
 "nbformat": 4,
 "nbformat_minor": 2
}
